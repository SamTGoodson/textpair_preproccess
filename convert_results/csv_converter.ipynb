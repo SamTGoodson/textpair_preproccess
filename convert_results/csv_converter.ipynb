{
 "cells": [
  {
   "cell_type": "markdown",
   "metadata": {},
   "source": [
    "### This is the scratchwork used to make the script. Keeping as resouce in case further modification is needed"
   ]
  },
  {
   "cell_type": "code",
   "execution_count": 2,
   "metadata": {},
   "outputs": [],
   "source": [
    "import os\n",
    "import json\n",
    "import csv"
   ]
  },
  {
   "cell_type": "code",
   "execution_count": 4,
   "metadata": {},
   "outputs": [],
   "source": [
    "import lz4.frame "
   ]
  },
  {
   "cell_type": "code",
   "execution_count": 23,
   "metadata": {},
   "outputs": [],
   "source": [
    "file_path = r'c:\\Users\\samtg\\Desktop\\results2\\alignments.jsonl.lz4'\n",
    "\n",
    "with open(file_path, 'rb') as file:\n",
    "    compressed_data = file.read()\n",
    "\n",
    "decompressed_data = lz4.frame.decompress(compressed_data)\n",
    "\n",
    "\n",
    "decompressed_text = decompressed_data.decode('utf-8')\n"
   ]
  },
  {
   "cell_type": "code",
   "execution_count": 24,
   "metadata": {},
   "outputs": [],
   "source": [
    "csv_file_path = r'c:\\Users\\samtg\\Desktop\\results2\\data.csv'"
   ]
  },
  {
   "cell_type": "code",
   "execution_count": 25,
   "metadata": {},
   "outputs": [],
   "source": [
    "lines = decompressed_text.strip().split('\\n')"
   ]
  },
  {
   "cell_type": "code",
   "execution_count": 26,
   "metadata": {},
   "outputs": [
    {
     "name": "stdout",
     "output_type": "stream",
     "text": [
      "CSV file has been created successfully.\n"
     ]
    }
   ],
   "source": [
    "\n",
    "with open(csv_file_path, 'w', newline='', encoding='utf-8') as csv_file:\n",
    "\n",
    "    csv_writer = csv.writer(csv_file)\n",
    "\n",
    "    first_json_object = json.loads(lines[0])\n",
    "    header = first_json_object.keys()\n",
    "    csv_writer.writerow(header)\n",
    "\n",
    "\n",
    "    for line in lines:\n",
    "        json_object = json.loads(line)\n",
    "        csv_writer.writerow(json_object.values())\n",
    "\n",
    "print(\"CSV file has been created successfully.\")"
   ]
  },
  {
   "cell_type": "code",
   "execution_count": 14,
   "metadata": {},
   "outputs": [],
   "source": [
    "lz4_file_path = r'c:\\Users\\samtg\\Desktop\\results2\\alignments.jsonl.lz4'\n",
    "csv_file_path = r'c:\\Users\\samtg\\Desktop\\results2\\check_data.csv'"
   ]
  },
  {
   "cell_type": "code",
   "execution_count": 15,
   "metadata": {},
   "outputs": [
    {
     "name": "stdout",
     "output_type": "stream",
     "text": [
      "CSV file has been created successfully.\n"
     ]
    }
   ],
   "source": [
    "with open(lz4_file_path, 'rb') as lz4_file:\n",
    "    compressed_data = lz4_file.read()\n",
    "\n",
    "decompressed_data = lz4.frame.decompress(compressed_data)\n",
    "decompressed_text = decompressed_data.decode('utf-8')\n",
    "lines = decompressed_text.strip().split('\\n')\n",
    "\n",
    "with open(csv_file_path, 'w', newline='', encoding='utf-8') as csv_file:\n",
    "    csv_writer = csv.writer(csv_file)\n",
    "\n",
    "    first_json_object = json.loads(lines[0])\n",
    "    header = first_json_object.keys()\n",
    "    csv_writer.writerow(header)\n",
    "    \n",
    "    for line in lines:\n",
    "        json_object = json.loads(line)\n",
    "        csv_writer.writerow(json_object.values())\n",
    "\n",
    "print(\"CSV file has been created successfully.\")\n"
   ]
  },
  {
   "cell_type": "code",
   "execution_count": 16,
   "metadata": {},
   "outputs": [
    {
     "name": "stdout",
     "output_type": "stream",
     "text": [
      "CSV file has been created successfully.\n"
     ]
    }
   ],
   "source": [
    "with open(lz4_file_path, 'rb') as lz4_file:\n",
    "    compressed_data = lz4_file.read()\n",
    "\n",
    "decompressed_data = lz4.frame.decompress(compressed_data)\n",
    "decompressed_text = decompressed_data.decode('utf-8')\n",
    "lines = decompressed_text.strip().split('\\n')\n",
    "\n",
    "with open(csv_file_path, 'w', newline='', encoding='utf-8-sig') as csv_file:\n",
    "    csv_writer = csv.writer(csv_file)\n",
    "\n",
    "    first_json_object = json.loads(lines[0])\n",
    "    header = first_json_object.keys()\n",
    "    csv_writer.writerow(header)\n",
    "    \n",
    "    for line in lines:\n",
    "        json_object = json.loads(line)\n",
    "        csv_writer.writerow(json_object.values())\n",
    "\n",
    "print(\"CSV file has been created successfully.\")"
   ]
  }
 ],
 "metadata": {
  "kernelspec": {
   "display_name": "base",
   "language": "python",
   "name": "python3"
  },
  "language_info": {
   "codemirror_mode": {
    "name": "ipython",
    "version": 3
   },
   "file_extension": ".py",
   "mimetype": "text/x-python",
   "name": "python",
   "nbconvert_exporter": "python",
   "pygments_lexer": "ipython3",
   "version": "3.11.4"
  },
  "orig_nbformat": 4
 },
 "nbformat": 4,
 "nbformat_minor": 2
}
